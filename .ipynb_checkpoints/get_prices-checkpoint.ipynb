{
 "cells": [
  {
   "cell_type": "code",
   "execution_count": 1,
   "id": "ed71fc4d-9f44-4425-924b-38737093066d",
   "metadata": {},
   "outputs": [],
   "source": [
    "import requests\n",
    "import platform\n",
    "from bs4 import BeautifulSoup\n",
    "import urllib.request\n",
    "import zipfile\n",
    "import os\n",
    "from selenium import webdriver\n",
    "from selenium.webdriver.common.keys import Keys"
   ]
  },
  {
   "cell_type": "markdown",
   "id": "74843436-49cf-4921-8a7e-e374371afb88",
   "metadata": {},
   "source": [
    "# Sneaker Bot\n",
    "\n",
    "This is an explortatory analysis of getting current price data from StockX. We will use Beautiful Soup to scrape the website and Selenium to perform actions such as selecting the size.\n",
    "\n",
    "## BS4\n",
    "\n",
    "In order to use BS4 to get price data from StockX, we need to set headers/cookies to bypass CAPTCHA."
   ]
  },
  {
   "cell_type": "code",
   "execution_count": 2,
   "id": "d3cb9e04-b789-4f91-b6bc-e2b051ddb2cb",
   "metadata": {},
   "outputs": [],
   "source": [
    "headers = {\n",
    "    'User-Agent': 'Mozilla/5.0 (X11; Ubuntu; Linux x86_64; rv:80.0) Gecko/20100101 Firefox/80.0',\n",
    "    'Accept-Language': 'en-US,en;q=0.5'\n",
    "}\n",
    "\n",
    "cookies = {\n",
    "    'stockx_homepage': \"sneakers\",\n",
    "}\n",
    "\n",
    "soup = BeautifulSoup(requests.get(\"https://stockx.com/air-jordan-6-retro-travis-scott\", headers=headers, cookies=cookies).content,\"html5lib\")"
   ]
  },
  {
   "cell_type": "markdown",
   "id": "d946d3c7-9cc3-4a88-869d-2b222472b2f6",
   "metadata": {},
   "source": [
    "## Selenium\n",
    "\n",
    "First we need to grab the Chrome webdriver in order to use Selenium."
   ]
  },
  {
   "cell_type": "code",
   "execution_count": 9,
   "id": "9da3dc8c-2fcf-4989-8e5e-0dd88d84463a",
   "metadata": {},
   "outputs": [],
   "source": [
    "def download_chromedriver():\n",
    "    sys_platform = platform.system().lower()\n",
    "    download_url = f\"https://chromedriver.storage.googleapis.com/96.0.4664.45/chromedriver_{sys_platform}64.zip\"\n",
    "    filehandle, _ = urllib.request.urlretrieve(download_url)\n",
    "    zip_file_object = zipfile.ZipFile(filehandle, 'r')\n",
    "    first_file = zip_file_object.namelist()[0]\n",
    "    file = zip_file_object.open(first_file)\n",
    "    content = file.read()\n",
    "    return content\n",
    "\n",
    "def save_file(content, out = \"chromedriver\"):\n",
    "    f = open(f'./{out}', 'wb')\n",
    "    f.write(content)\n",
    "    f.close()\n",
    "    \n",
    "chrome_content = download_chromedriver()\n",
    "save_file(chrome_content)"
   ]
  },
  {
   "cell_type": "code",
   "execution_count": 10,
   "id": "7f99e7c8-3514-4ad4-99c8-bed3faad919c",
   "metadata": {},
   "outputs": [
    {
     "name": "stderr",
     "output_type": "stream",
     "text": [
      "/tmp/ipykernel_3921793/2260976663.py:4: DeprecationWarning: executable_path has been deprecated, please pass in a Service object\n",
      "  driver = webdriver.Chrome(executable_path='./chromedriver')\n"
     ]
    }
   ],
   "source": [
    "# need to make sure chromedriver has executable permissions\n",
    "os.system('chmod +x %s/chromedriver' % os.getcwd())\n",
    "\n",
    "driver = webdriver.Chrome(executable_path='./chromedriver')\n",
    "\n",
    "# do some stuff\n",
    "\n",
    "driver.close()"
   ]
  },
  {
   "cell_type": "code",
   "execution_count": null,
   "id": "7f0b4171-e0b0-46e5-8553-c6d9d9dd6239",
   "metadata": {},
   "outputs": [],
   "source": [
    "# looking for dd with class=chakra-stat__number\n",
    "sneaker_price = soup.select(\"dd.chakra-stat__number\")\n",
    "[print(data.text) for data in sneaker_price]"
   ]
  }
 ],
 "metadata": {
  "kernelspec": {
   "display_name": "Python 3 (ipykernel)",
   "language": "python",
   "name": "python3"
  },
  "language_info": {
   "codemirror_mode": {
    "name": "ipython",
    "version": 3
   },
   "file_extension": ".py",
   "mimetype": "text/x-python",
   "name": "python",
   "nbconvert_exporter": "python",
   "pygments_lexer": "ipython3",
   "version": "3.9.6"
  }
 },
 "nbformat": 4,
 "nbformat_minor": 5
}
